{
  "nbformat": 4,
  "nbformat_minor": 0,
  "metadata": {
    "colab": {
      "name": "LinearRegression-Final.ipynb",
      "provenance": [],
      "collapsed_sections": []
    },
    "kernelspec": {
      "name": "python3",
      "display_name": "Python 3"
    },
    "language_info": {
      "name": "python"
    }
  },
  "cells": [
    {
      "cell_type": "markdown",
      "metadata": {
        "id": "nzgRLljlNKVa"
      },
      "source": [
        "**Code for Linear Regression**"
      ]
    },
    {
      "cell_type": "markdown",
      "metadata": {
        "id": "qx7ojrMLNVUB"
      },
      "source": [
        "Importing various libraries."
      ]
    },
    {
      "cell_type": "code",
      "metadata": {
        "id": "sBFruRtrNj3b"
      },
      "source": [
        "import numpy as np\n",
        "import pandas as pd\n",
        "import matplotlib.pyplot as plt"
      ],
      "execution_count": 31,
      "outputs": []
    },
    {
      "cell_type": "markdown",
      "metadata": {
        "id": "2k_7YpTWRyUV"
      },
      "source": [
        "Now importing the data"
      ]
    },
    {
      "cell_type": "code",
      "metadata": {
        "id": "3YjV923oZYob"
      },
      "source": [
        "def normalize(X):  \n",
        "  mu=np.mean(X);\n",
        "  X_norm=(X-mu);\n",
        "  sigma=np.std(X)+0.0001;\n",
        "  X_norm=X/sigma;\n",
        "  return X_norm;"
      ],
      "execution_count": 32,
      "outputs": []
    },
    {
      "cell_type": "code",
      "metadata": {
        "id": "HkZNwvtNPvgT"
      },
      "source": [
        "train_df = pd.read_csv(\"/content/sample_data/mnist_train_small.csv\",header=None)\n",
        "test_df  = pd.read_csv(\"/content/sample_data/mnist_test.csv\",header=None)\n",
        "data=(train_df[:]).T;\n",
        "y=(data[:1]).T\n",
        "X=normalize((data[1:]).T)"
      ],
      "execution_count": 33,
      "outputs": []
    },
    {
      "cell_type": "code",
      "metadata": {
        "id": "RJFIcdd9Yp-a"
      },
      "source": [
        "m, n = np.shape(X)\n"
      ],
      "execution_count": 34,
      "outputs": []
    },
    {
      "cell_type": "code",
      "metadata": {
        "id": "C96-Mj0CmaI3",
        "colab": {
          "base_uri": "https://localhost:8080/"
        },
        "outputId": "271d4da6-e495-4697-ba8e-c9b65cc440aa"
      },
      "source": [
        "O= np.array([np.ones(m)]).T\n",
        "X= np.hstack([O,X])\n",
        "np.shape(X)"
      ],
      "execution_count": 35,
      "outputs": [
        {
          "output_type": "execute_result",
          "data": {
            "text/plain": [
              "(20000, 785)"
            ]
          },
          "metadata": {
            "tags": []
          },
          "execution_count": 35
        }
      ]
    },
    {
      "cell_type": "code",
      "metadata": {
        "id": "p3lU2DiJpX03",
        "colab": {
          "base_uri": "https://localhost:8080/",
          "height": 279
        },
        "outputId": "4b8bd77a-96dc-45f2-9851-bacdb346c644"
      },
      "source": [
        "\n",
        "alpha = 0.008\n",
        "num_iters=10000\n",
        "theta = np.zeros((n+1, 1))\n",
        "for i in range(num_iters):\n",
        "  hx = X@theta\n",
        "  J= (1/(2*m))*np.sum(np.square(hx-y));\n",
        "  theta = theta - (alpha/m) * ((hx-y).T @ X).T;\n",
        "  #print(J)\n",
        "  plt.grid(True)\n",
        "  plt.scatter(i,J, marker = \"o\")\n",
        "  plt.xlabel('Number of iterations →')\n",
        "  plt.ylabel('Cost →')\n",
        "plt.show() "
      ],
      "execution_count": 36,
      "outputs": [
        {
          "output_type": "display_data",
          "data": {
            "image/png": "[encoded data removed]",
            "text/plain": [
              "<Figure size 432x288 with 1 Axes>"
            ]
          },
          "metadata": {
            "tags": [],
            "needs_background": "light"
          }
        }
      ]
    },
    {
      "cell_type": "code",
      "metadata": {
        "colab": {
          "base_uri": "https://localhost:8080/"
        },
        "id": "MNJBSN74eINK",
        "outputId": "adaddc9a-cfa9-4cee-a305-178f80f42910"
      },
      "source": [
        "p=np.ones(4)\n",
        "q=(3*np.ones(4)).T;\n",
        "p@q\n"
      ],
      "execution_count": 37,
      "outputs": [
        {
          "output_type": "execute_result",
          "data": {
            "text/plain": [
              "12.0"
            ]
          },
          "metadata": {
            "tags": []
          },
          "execution_count": 37
        }
      ]
    },
    {
      "cell_type": "markdown",
      "metadata": {
        "id": "xUGhAuXWxb5P"
      },
      "source": [
        "**Let us predict**"
      ]
    },
    {
      "cell_type": "code",
      "metadata": {
        "id": "kJxzhBeKu5jm",
        "colab": {
          "base_uri": "https://localhost:8080/"
        },
        "outputId": "05fa7beb-745a-48d9-eedb-63a44bf00960"
      },
      "source": [
        "data1=((test_df[:]).T);\n",
        "y_actual=(data1[:1]).T \n",
        "Xp=(data1[1:]).T\n",
        "Op= np.array([np.ones(10000)]).T\n",
        "Xp= np.hstack([Op,Xp])\n",
        "yp=Xp@theta;\n",
        "m = len(Xp);\n",
        "np.shape(Xp)"
      ],
      "execution_count": 38,
      "outputs": [
        {
          "output_type": "execute_result",
          "data": {
            "text/plain": [
              "(10000, 785)"
            ]
          },
          "metadata": {
            "tags": []
          },
          "execution_count": 38
        }
      ]
    },
    {
      "cell_type": "code",
      "metadata": {
        "id": "enPzIABbhqua",
        "colab": {
          "base_uri": "https://localhost:8080/"
        },
        "outputId": "3d19c934-6f07-452c-bd28-fd6e9e4479fb"
      },
      "source": [
        "print(np.shape(X));\n",
        "print (np.shape(theta));\n"
      ],
      "execution_count": 39,
      "outputs": [
        {
          "output_type": "stream",
          "text": [
            "(20000, 785)\n",
            "(785, 1)\n"
          ],
          "name": "stdout"
        }
      ]
    },
    {
      "cell_type": "markdown",
      "metadata": {
        "id": "BOfAYWuUxbxp"
      },
      "source": [
        "**To Calculate Accuracy**"
      ]
    },
    {
      "cell_type": "code",
      "metadata": {
        "id": "ysvj6Pm6yPxp",
        "colab": {
          "base_uri": "https://localhost:8080/"
        },
        "outputId": "65cad2a6-b915-420a-fe51-03a7a9acfb28"
      },
      "source": [
        "from sklearn.linear_model import LinearRegression\n",
        "regressor = LinearRegression()\n",
        "regressor.fit(yp,y_actual)\n",
        "r2_score = regressor.score(yp,y_actual)\n",
        "print(r2_score*100,'%')"
      ],
      "execution_count": 40,
      "outputs": [
        {
          "output_type": "stream",
          "text": [
            "58.45784457825154 %\n"
          ],
          "name": "stdout"
        }
      ]
    }
  ]
}